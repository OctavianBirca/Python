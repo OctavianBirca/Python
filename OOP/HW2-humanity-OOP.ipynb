{
 "cells": [
  {
   "cell_type": "code",
   "execution_count": 1,
   "metadata": {},
   "outputs": [],
   "source": [
    "class Humanity:\n",
    "    people = 8_000_000_000\n",
    "    planet = \"Terra\"\n",
    "    languages = 7_000\n",
    "    genders: { \"male\"  : 50.4,\n",
    "               \"female\": 49.6\n",
    "             }\n",
    "    \n",
    "\n",
    "\n",
    "    def newPlanet():\n",
    "        new_planet = input('New planet colonie after 2080: ')\n",
    "        Humanity.planet.append(new_planet)\n",
    "\n",
    "    def dailyBirth():\n",
    "        rate = Humanity.people * 0.00005\n",
    "        \n",
    "        return int(rate)\n",
    "    \n",
    "    def dailyMortality():\n",
    "        rate = Humanity.people * 0.0000125\n",
    "        return int(rate)\n",
    "    \n",
    "    year = 2023\n",
    "\n",
    "        "
   ]
  },
  {
   "cell_type": "code",
   "execution_count": 2,
   "metadata": {},
   "outputs": [
    {
     "name": "stdout",
     "output_type": "stream",
     "text": [
      "people in 2023 8000000000\n",
      "Births per day: 400000\n",
      "Deahts per day: 100000\n",
      "rate - 110248901\n",
      "people in 2024 - 8110248901\n"
     ]
    }
   ],
   "source": [
    "#print( Humanity.dailyBirth())\n",
    "print('people in', Humanity.year, Humanity.people)\n",
    "\n",
    "current_population = Humanity.people\n",
    "\n",
    "print (\"Births per day:\", Humanity.dailyBirth())\n",
    "print (\"Deahts per day:\", Humanity.dailyMortality())\n",
    "\n",
    "for day in range(365):\n",
    "    Humanity.people += Humanity.dailyBirth()\n",
    "\n",
    "for day in range(365):\n",
    "    Humanity.people -= Humanity.dailyMortality()\n",
    "\n",
    "print(\"rate -\", Humanity.people - current_population)\n",
    "\n",
    "Humanity.year += 1\n",
    "\n",
    "\n",
    "print('people in', Humanity.year,\"-\", Humanity.people)\n",
    "\n"
   ]
  },
  {
   "cell_type": "code",
   "execution_count": 20,
   "metadata": {},
   "outputs": [
    {
     "name": "stdout",
     "output_type": "stream",
     "text": [
      "Humanity planet before 2050: Terra\n",
      "Humany planets aflter 2050: Terra, Moon, Mars.\n"
     ]
    }
   ],
   "source": [
    "print(\"Humanity planet before 2050:\", Humanity.planet)\n",
    "\n",
    "Humanity.planet = [Humanity.planet, \"Moon\", \"Mars\"]\n",
    "\n",
    "print (\"Humany planets aflter 2050: \", end =\"\")\n",
    "\n",
    "for i in range (len(Humanity.planet)):\n",
    "    print(Humanity.planet[i], end=\"\")\n",
    "    if i == len(Humanity.planet)-1:\n",
    "        print (\".\")\n",
    "    else:\n",
    "        print (\", \", end =\"\")\n"
   ]
  },
  {
   "cell_type": "code",
   "execution_count": 21,
   "metadata": {},
   "outputs": [],
   "source": [
    "Humanity.newPlanet()"
   ]
  },
  {
   "cell_type": "code",
   "execution_count": 22,
   "metadata": {},
   "outputs": [],
   "source": [
    "Humanity.newPlanet()"
   ]
  },
  {
   "cell_type": "code",
   "execution_count": 23,
   "metadata": {},
   "outputs": [
    {
     "name": "stdout",
     "output_type": "stream",
     "text": [
      "Terra, Moon, Mars, Europe, Titan.\n"
     ]
    }
   ],
   "source": [
    "for i in range (len(Humanity.planet)):\n",
    "    print(Humanity.planet[i], end=\"\")\n",
    "    if i == len(Humanity.planet)-1:\n",
    "        print (\".\")\n",
    "    else:\n",
    "        print (\", \", end =\"\")"
   ]
  }
 ],
 "metadata": {
  "kernelspec": {
   "display_name": "Python 3",
   "language": "python",
   "name": "python3"
  },
  "language_info": {
   "codemirror_mode": {
    "name": "ipython",
    "version": 3
   },
   "file_extension": ".py",
   "mimetype": "text/x-python",
   "name": "python",
   "nbconvert_exporter": "python",
   "pygments_lexer": "ipython3",
   "version": "3.11.4"
  }
 },
 "nbformat": 4,
 "nbformat_minor": 2
}
